{
  "nbformat": 4,
  "nbformat_minor": 0,
  "metadata": {
    "colab": {
      "name": "sale_price.ipynb",
      "provenance": [],
      "include_colab_link": true
    },
    "kernelspec": {
      "name": "python3",
      "display_name": "Python 3"
    },
    "language_info": {
      "name": "python"
    }
  },
  "cells": [
    {
      "cell_type": "markdown",
      "metadata": {
        "id": "view-in-github",
        "colab_type": "text"
      },
      "source": [
        "<a href=\"https://colab.research.google.com/github/PaulAlvarez13/ISYS2001/blob/main/sale_price.ipynb\" target=\"_parent\"><img src=\"https://colab.research.google.com/assets/colab-badge.svg\" alt=\"Open In Colab\"/></a>"
      ]
    },
    {
      "cell_type": "markdown",
      "metadata": {
        "id": "cgTeiXOtSPjH"
      },
      "source": [
        "# Sales Price\n",
        "\n",
        "A local department store needs to develop a program that will computer the total price (including goods and services tax) of the item on sale when given an item's original price and discount percentage.\n",
        "\n",
        "## Tasks\n",
        "* Save to Github\n",
        "* Design Algorithm\n",
        "* Write and test the program in Python\n",
        "\n",
        "Here is the psudocode:"
      ]
    },
    {
      "cell_type": "code",
      "source": [
        "Input the original price\n",
        "Imput the disocunt\n",
        "Get the total discounted price\n",
        "Print the total discounted price\n",
        "Get GST from original price didving it by 11\n",
        "Print the total GST from the price"
      ],
      "metadata": {
        "id": "glmQMAZRo1rD"
      },
      "execution_count": null,
      "outputs": []
    },
    {
      "cell_type": "code",
      "source": [
        "#Input the original price\n",
        "original_price = int(input(\"Please input the original price \"))\n",
        "\n",
        "#Imput the disocunt\n",
        "discount = float(input(\"Please input the discount percentage in decimal form \"))\n",
        "\n",
        "#Get the total discounted price\n",
        "total_discounted_price = original_price - (discount * original_price)\n",
        "\n",
        "#Print the total discounted price\n",
        "print(\"The total discounted price is: \", \"$\",total_discounted_price)\n",
        "\n",
        "#Get GST from original price didving it by 11\n",
        "#Formula sourced from: https://squareup.com/au/en/townsquare/how-is-gst-calculated\n",
        "gst = original_price / 11\n",
        "\n",
        "#Print the total GST from the price\n",
        "print(\"The GST from the original price is: \", \"$\", round(gst, 2))\n"
      ],
      "metadata": {
        "id": "-wmSMRDji20v",
        "outputId": "ae704cb2-21ae-4731-8ccd-2b265e1be9a4",
        "colab": {
          "base_uri": "https://localhost:8080/"
        }
      },
      "execution_count": 21,
      "outputs": [
        {
          "output_type": "stream",
          "name": "stdout",
          "text": [
            "Please input the original price 100\n",
            "Please input the discount percentage in decimal form 0.10\n",
            "The total discounted price is:  $ 90.0\n",
            "The GST from the original price is:  $ 9.09\n"
          ]
        }
      ]
    }
  ]
}