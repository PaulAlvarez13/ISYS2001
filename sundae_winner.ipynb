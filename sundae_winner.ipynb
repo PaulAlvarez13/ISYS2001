{
  "nbformat": 4,
  "nbformat_minor": 0,
  "metadata": {
    "colab": {
      "name": "sundae_winner.ipynb",
      "provenance": [],
      "include_colab_link": true
    },
    "kernelspec": {
      "name": "python3",
      "display_name": "Python 3"
    },
    "language_info": {
      "name": "python"
    }
  },
  "cells": [
    {
      "cell_type": "markdown",
      "metadata": {
        "id": "view-in-github",
        "colab_type": "text"
      },
      "source": [
        "<a href=\"https://colab.research.google.com/github/PaulAlvarez13/ISYS2001/blob/main/sundae_winner.ipynb\" target=\"_parent\"><img src=\"https://colab.research.google.com/assets/colab-badge.svg\" alt=\"Open In Colab\"/></a>"
      ]
    },
    {
      "cell_type": "markdown",
      "source": [
        "# Sundae Winner \n",
        "\n",
        "Other than (maybe) in the lectures, we haven't done any programing. Even so, Python doesn't look that hard. Below is the Python code we saw last week from Sharpen_Pencil.PDF. Perform the tasks below. If you get stuckm don't worry, we will go thorough the answers.\n",
        "\n",
        "### Task 0 - Run the program\n",
        "\n",
        "To make sure you understand what is happening, try running the cod a few times.\n",
        "\n",
        "``` To run the code, click insode the cell and either click the 'play' icon or hit shift+enter together``` \n",
        "\n",
        "\n",
        "### Task 1 - Understanding input\n",
        "\n",
        "Which of the following will give you a cherry on top? What happens if when the program asks (prompts) you for a cherry on top you type (notice the different uppercase letters in the input): \n",
        "\n",
        "1. Yes\n",
        "2. yeS\n",
        "3. YES\n",
        "4. yes\n",
        "5. no\n",
        "6. NO\n",
        "#ANSWER:\n",
        "-The input that gave me cherry on top was number 4 (yes).\n",
        "\n",
        "\n",
        "\n",
        "### Task 2 - editing a program\n",
        "\n",
        "Other than in the lectures, we haven't done any programing. Even so, Python doesn;t look that hard.  Try to make the following following changes, if you get stuckm don;t worry, your lecturer will go thorough the answers:\n",
        "* Change 'Stacie' to 'Stacy'\n",
        "* Add your name to the list\n",
        "#ANSWER: \n",
        "-I changed Stacie into Stacy and verified it by running the program. \n",
        "-I have also added my name to the list and verified it by running the program.\n",
        "\n",
        "\n",
        "### Task 3 - Workflow\n",
        "\n",
        "After each change, rerun the program to make sure the chages has bene applied. When you have the change has worked, save the notebook to GitHub.\n",
        "\n",
        "Here is our workflow\n",
        "* Open/Create/import notebook into Colab\n",
        "* Make sure notebook has meaningfuly name\n",
        "* Design, edit make changest in Colab Tab\n",
        "* Save regulary to GitHub (close GitHub window after save)\n",
        "* Continue with edits in the colab tab.\n",
        "#ANSWER:\n",
        "- I have used this 'sundae_winner.ipyb' file to do the workflow/task 3.\n",
        "\n",
        "\n",
        "\n",
        "# The Program itself \n",
        "\n",
        "We will talk more about the ```import``` statement later lecture, but briefly it is a way of letting you use code from elsewhere.  We call this process ```import``` and the code form else where is bundled into a package or modules.    So in the following, some programmer worked out how to get the comuter to generate random numbers, and put this into a module called ```random```.  Since we want to use use we need to ```import``` the module."
      ],
      "metadata": {
        "id": "Z8lc5lPfpxup"
      }
    },
    {
      "cell_type": "code",
      "execution_count": 30,
      "metadata": {
        "colab": {
          "base_uri": "https://localhost:8080/"
        },
        "id": "y4lK6jddpTME",
        "outputId": "2c41d9a6-5b9c-4740-dc5b-882731e0fcd3"
      },
      "outputs": [
        {
          "output_type": "stream",
          "name": "stdout",
          "text": [
            "Congratulations Jimmy and Kim you have won an ice cream sundae!\n",
            "Would you like a cherry on top? yes\n",
            "One vanilla sundae  with a cherry on top for Jimmy and one vanilla sundae  with a cherry on top for Kim coming right up...\n"
          ]
        }
      ],
      "source": [
        "import random\n",
        "\n",
        "customers =  ['Jimmy', 'Kim', 'John', 'Stacy', 'Paul']\n",
        "\n",
        "winner = random.choice(customers)\n",
        "\n",
        "winner_two = random.choice(customers)\n",
        "\n",
        "flavor = 'vanilla'\n",
        "\n",
        "print('Congratulations ' + winner + ' and ' + winner_two + \n",
        " ' you have won an ice cream sundae!')\n",
        "\n",
        "prompt = 'Would you like a cherry on top? '\n",
        "\n",
        "wants_cherry = input(prompt)\n",
        "\n",
        "order = flavor + ' sundae '\n",
        "\n",
        "if (wants_cherry == 'yes'):\n",
        " order = order + ' with a cherry on top'\n",
        "\n",
        "print('One ' + order + ' for ' + winner + ' and one ' + order + ' for ' + winner_two +\n",
        " ' coming right up...')"
      ]
    },
    {
      "cell_type": "markdown",
      "source": [
        "### Task 4 - Multiple winners\n",
        "\n",
        "No coding is required for this task, this is a thiking exercise where you can write your ideas down.  We are not worried  about how to do it specifically in Python. It is more important to think about what needs to be done. Google, StackOverflow, Books, etc., will help with the how. The hard part is working out the what (Problem-solving).\n",
        "\n",
        "How could the program to have two people win a sundae?  What steps need to be added?   \n",
        "# My OWN ANSWER:\n",
        "1. Add another variable called \"winner_two\"\n",
        "\n",
        "2. Change the statement print on the bottom\n",
        "- print('One ' + order + ' for ' + winner +\n",
        " ' coming right up...') to...\n",
        "- print('One ' + order + ' for ' + winner + ' and one ' + order + ' for ' + winner_two +\n",
        " ' coming right up...')\n",
        "\n",
        "3. Change the Congratulations print statement so there will be two winners printed\n",
        "- add ' and ' + winner_two to the statement\n",
        "\n",
        "The steps above worked.\n",
        "\n",
        "#ANSWER FROM WORKSHOP:\n",
        "- Store the second winner \n",
        "- Update the output to show the second winner \n",
        "- Prompt or ask for a cherry for the second winner \n",
        "- Make sure winners are distinct\n"
      ],
      "metadata": {
        "id": "HrxSqDWcv456"
      }
    },
    {
      "cell_type": "code",
      "source": [
        ""
      ],
      "metadata": {
        "id": "gJF7dKtxtYMn"
      },
      "execution_count": null,
      "outputs": []
    }
  ]
}