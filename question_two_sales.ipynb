{
  "cells": [
    {
      "cell_type": "markdown",
      "metadata": {
        "id": "view-in-github",
        "colab_type": "text"
      },
      "source": [
        "<a href=\"https://colab.research.google.com/github/PaulAlvarez13/ISYS2001/blob/main/question_two_sales.ipynb\" target=\"_parent\"><img src=\"https://colab.research.google.com/assets/colab-badge.svg\" alt=\"Open In Colab\"/></a>"
      ]
    },
    {
      "cell_type": "code",
      "execution_count": 1,
      "metadata": {
        "id": "D86rp1-3VsTL"
      },
      "outputs": [],
      "source": [
        "##Import Pandas\n",
        "import matplotlib.pyplot as plt\n",
        "import pandas as pd\n",
        "import numpy as np"
      ]
    },
    {
      "cell_type": "code",
      "execution_count": 2,
      "metadata": {
        "id": "lwpBr8IgI2Oh"
      },
      "outputs": [],
      "source": [
        "##Create dataframe from csv file\n",
        "df = pd.read_csv(\"/content/elp_sales.csv\")"
      ]
    },
    {
      "cell_type": "code",
      "execution_count": 3,
      "metadata": {
        "colab": {
          "base_uri": "https://localhost:8080/"
        },
        "id": "Hm5dobAUJPtZ",
        "outputId": "b1063709-10eb-4d0c-9f97-61c876867a91"
      },
      "outputs": [
        {
          "output_type": "execute_result",
          "data": {
            "text/plain": [
              "Index(['Region', 'Country', 'Item Type', 'Sales Channel', 'Order Priority',\n",
              "       'Order Date', 'Order ID', 'Ship Date', 'Units Sold', 'Unit Price',\n",
              "       'Unit Cost', 'Total Revenue', 'Total Cost', 'Total Profit'],\n",
              "      dtype='object')"
            ]
          },
          "metadata": {},
          "execution_count": 3
        }
      ],
      "source": [
        "##Show columns\n",
        "df.columns"
      ]
    },
    {
      "cell_type": "code",
      "execution_count": null,
      "metadata": {
        "id": "k1lV7ur_J7Qj"
      },
      "outputs": [],
      "source": [
        "##Show Dataframe\n",
        "df"
      ]
    },
    {
      "cell_type": "code",
      "execution_count": 5,
      "metadata": {
        "colab": {
          "base_uri": "https://localhost:8080/",
          "height": 858
        },
        "id": "TiF-WIk-MkF3",
        "outputId": "b204d5ab-02b6-4f58-f99a-e4427f9f6efb"
      },
      "outputs": [
        {
          "output_type": "execute_result",
          "data": {
            "text/plain": [
              "                   Region                         Country        Item Type  \\\n",
              "0   Australia and Oceania                          Tuvalu        Baby Food   \n",
              "5   Australia and Oceania                 Solomon Islands        Baby Food   \n",
              "19  Australia and Oceania                      East Timor             Meat   \n",
              "23  Australia and Oceania                     New Zealand           Fruits   \n",
              "26  Australia and Oceania                        Kiribati           Fruits   \n",
              "32  Australia and Oceania                       Australia  Office Supplies   \n",
              "56  Australia and Oceania                            Fiji          Clothes   \n",
              "60  Australia and Oceania                       Australia           Cereal   \n",
              "76  Australia and Oceania  Federated States of Micronesia        Beverages   \n",
              "79  Australia and Oceania                          Samoa         Cosmetics   \n",
              "91  Australia and Oceania                       Australia        Beverages   \n",
              "\n",
              "   Sales Channel Order Priority  Order Date   Order ID   Ship Date  \\\n",
              "0        Offline              H   5/28/2010  669165933   6/27/2010   \n",
              "5         Online              C    2/4/2015  547995746   2/21/2015   \n",
              "19        Online              L   7/31/2012  322067916   9/11/2012   \n",
              "23        Online              H    9/8/2014  142278373   10/4/2014   \n",
              "26        Online              M  10/13/2014  347140347  11/10/2014   \n",
              "32        Online              C  10/27/2015  158535134  11/25/2015   \n",
              "56       Offline              C   6/30/2010  647876489    8/1/2010   \n",
              "60       Offline              H    6/9/2013  450563752    7/2/2013   \n",
              "76        Online              C  10/28/2014  217221009  11/15/2014   \n",
              "79        Online              H   7/20/2013  670854651    8/7/2013   \n",
              "91       Offline              H    7/7/2014  240470397   7/11/2014   \n",
              "\n",
              "    Units Sold  Unit Price  Unit Cost  Total Revenue  Total Cost  Total Profit  \n",
              "0         9925      255.28     159.42     2533654.00  1582243.50     951410.50  \n",
              "5         2974      255.28     159.42      759202.72   474115.08     285087.64  \n",
              "19        5908      421.89     364.69     2492526.12  2154588.52     337937.60  \n",
              "23        2187        9.33       6.92       20404.71    15134.04       5270.67  \n",
              "26        5398        9.33       6.92       50363.34    37354.16      13009.18  \n",
              "32        2924      651.21     524.96     1904138.04  1534983.04     369155.00  \n",
              "56        9905      109.28      35.84     1082418.40   354995.20     727423.20  \n",
              "60         682      205.70     117.11      140287.40    79869.02      60418.38  \n",
              "76        9379       47.45      31.79      445033.55   298158.41     146875.14  \n",
              "79        9654      437.20     263.33     4220728.80  2542187.82    1678540.98  \n",
              "91        9389       47.45      31.79      445508.05   298476.31     147031.74  "
            ],
            "text/html": [
              "\n",
              "  <div id=\"df-0302a5c7-0ab6-464b-899d-06fe2455b3f8\">\n",
              "    <div class=\"colab-df-container\">\n",
              "      <div>\n",
              "<style scoped>\n",
              "    .dataframe tbody tr th:only-of-type {\n",
              "        vertical-align: middle;\n",
              "    }\n",
              "\n",
              "    .dataframe tbody tr th {\n",
              "        vertical-align: top;\n",
              "    }\n",
              "\n",
              "    .dataframe thead th {\n",
              "        text-align: right;\n",
              "    }\n",
              "</style>\n",
              "<table border=\"1\" class=\"dataframe\">\n",
              "  <thead>\n",
              "    <tr style=\"text-align: right;\">\n",
              "      <th></th>\n",
              "      <th>Region</th>\n",
              "      <th>Country</th>\n",
              "      <th>Item Type</th>\n",
              "      <th>Sales Channel</th>\n",
              "      <th>Order Priority</th>\n",
              "      <th>Order Date</th>\n",
              "      <th>Order ID</th>\n",
              "      <th>Ship Date</th>\n",
              "      <th>Units Sold</th>\n",
              "      <th>Unit Price</th>\n",
              "      <th>Unit Cost</th>\n",
              "      <th>Total Revenue</th>\n",
              "      <th>Total Cost</th>\n",
              "      <th>Total Profit</th>\n",
              "    </tr>\n",
              "  </thead>\n",
              "  <tbody>\n",
              "    <tr>\n",
              "      <th>0</th>\n",
              "      <td>Australia and Oceania</td>\n",
              "      <td>Tuvalu</td>\n",
              "      <td>Baby Food</td>\n",
              "      <td>Offline</td>\n",
              "      <td>H</td>\n",
              "      <td>5/28/2010</td>\n",
              "      <td>669165933</td>\n",
              "      <td>6/27/2010</td>\n",
              "      <td>9925</td>\n",
              "      <td>255.28</td>\n",
              "      <td>159.42</td>\n",
              "      <td>2533654.00</td>\n",
              "      <td>1582243.50</td>\n",
              "      <td>951410.50</td>\n",
              "    </tr>\n",
              "    <tr>\n",
              "      <th>5</th>\n",
              "      <td>Australia and Oceania</td>\n",
              "      <td>Solomon Islands</td>\n",
              "      <td>Baby Food</td>\n",
              "      <td>Online</td>\n",
              "      <td>C</td>\n",
              "      <td>2/4/2015</td>\n",
              "      <td>547995746</td>\n",
              "      <td>2/21/2015</td>\n",
              "      <td>2974</td>\n",
              "      <td>255.28</td>\n",
              "      <td>159.42</td>\n",
              "      <td>759202.72</td>\n",
              "      <td>474115.08</td>\n",
              "      <td>285087.64</td>\n",
              "    </tr>\n",
              "    <tr>\n",
              "      <th>19</th>\n",
              "      <td>Australia and Oceania</td>\n",
              "      <td>East Timor</td>\n",
              "      <td>Meat</td>\n",
              "      <td>Online</td>\n",
              "      <td>L</td>\n",
              "      <td>7/31/2012</td>\n",
              "      <td>322067916</td>\n",
              "      <td>9/11/2012</td>\n",
              "      <td>5908</td>\n",
              "      <td>421.89</td>\n",
              "      <td>364.69</td>\n",
              "      <td>2492526.12</td>\n",
              "      <td>2154588.52</td>\n",
              "      <td>337937.60</td>\n",
              "    </tr>\n",
              "    <tr>\n",
              "      <th>23</th>\n",
              "      <td>Australia and Oceania</td>\n",
              "      <td>New Zealand</td>\n",
              "      <td>Fruits</td>\n",
              "      <td>Online</td>\n",
              "      <td>H</td>\n",
              "      <td>9/8/2014</td>\n",
              "      <td>142278373</td>\n",
              "      <td>10/4/2014</td>\n",
              "      <td>2187</td>\n",
              "      <td>9.33</td>\n",
              "      <td>6.92</td>\n",
              "      <td>20404.71</td>\n",
              "      <td>15134.04</td>\n",
              "      <td>5270.67</td>\n",
              "    </tr>\n",
              "    <tr>\n",
              "      <th>26</th>\n",
              "      <td>Australia and Oceania</td>\n",
              "      <td>Kiribati</td>\n",
              "      <td>Fruits</td>\n",
              "      <td>Online</td>\n",
              "      <td>M</td>\n",
              "      <td>10/13/2014</td>\n",
              "      <td>347140347</td>\n",
              "      <td>11/10/2014</td>\n",
              "      <td>5398</td>\n",
              "      <td>9.33</td>\n",
              "      <td>6.92</td>\n",
              "      <td>50363.34</td>\n",
              "      <td>37354.16</td>\n",
              "      <td>13009.18</td>\n",
              "    </tr>\n",
              "    <tr>\n",
              "      <th>32</th>\n",
              "      <td>Australia and Oceania</td>\n",
              "      <td>Australia</td>\n",
              "      <td>Office Supplies</td>\n",
              "      <td>Online</td>\n",
              "      <td>C</td>\n",
              "      <td>10/27/2015</td>\n",
              "      <td>158535134</td>\n",
              "      <td>11/25/2015</td>\n",
              "      <td>2924</td>\n",
              "      <td>651.21</td>\n",
              "      <td>524.96</td>\n",
              "      <td>1904138.04</td>\n",
              "      <td>1534983.04</td>\n",
              "      <td>369155.00</td>\n",
              "    </tr>\n",
              "    <tr>\n",
              "      <th>56</th>\n",
              "      <td>Australia and Oceania</td>\n",
              "      <td>Fiji</td>\n",
              "      <td>Clothes</td>\n",
              "      <td>Offline</td>\n",
              "      <td>C</td>\n",
              "      <td>6/30/2010</td>\n",
              "      <td>647876489</td>\n",
              "      <td>8/1/2010</td>\n",
              "      <td>9905</td>\n",
              "      <td>109.28</td>\n",
              "      <td>35.84</td>\n",
              "      <td>1082418.40</td>\n",
              "      <td>354995.20</td>\n",
              "      <td>727423.20</td>\n",
              "    </tr>\n",
              "    <tr>\n",
              "      <th>60</th>\n",
              "      <td>Australia and Oceania</td>\n",
              "      <td>Australia</td>\n",
              "      <td>Cereal</td>\n",
              "      <td>Offline</td>\n",
              "      <td>H</td>\n",
              "      <td>6/9/2013</td>\n",
              "      <td>450563752</td>\n",
              "      <td>7/2/2013</td>\n",
              "      <td>682</td>\n",
              "      <td>205.70</td>\n",
              "      <td>117.11</td>\n",
              "      <td>140287.40</td>\n",
              "      <td>79869.02</td>\n",
              "      <td>60418.38</td>\n",
              "    </tr>\n",
              "    <tr>\n",
              "      <th>76</th>\n",
              "      <td>Australia and Oceania</td>\n",
              "      <td>Federated States of Micronesia</td>\n",
              "      <td>Beverages</td>\n",
              "      <td>Online</td>\n",
              "      <td>C</td>\n",
              "      <td>10/28/2014</td>\n",
              "      <td>217221009</td>\n",
              "      <td>11/15/2014</td>\n",
              "      <td>9379</td>\n",
              "      <td>47.45</td>\n",
              "      <td>31.79</td>\n",
              "      <td>445033.55</td>\n",
              "      <td>298158.41</td>\n",
              "      <td>146875.14</td>\n",
              "    </tr>\n",
              "    <tr>\n",
              "      <th>79</th>\n",
              "      <td>Australia and Oceania</td>\n",
              "      <td>Samoa</td>\n",
              "      <td>Cosmetics</td>\n",
              "      <td>Online</td>\n",
              "      <td>H</td>\n",
              "      <td>7/20/2013</td>\n",
              "      <td>670854651</td>\n",
              "      <td>8/7/2013</td>\n",
              "      <td>9654</td>\n",
              "      <td>437.20</td>\n",
              "      <td>263.33</td>\n",
              "      <td>4220728.80</td>\n",
              "      <td>2542187.82</td>\n",
              "      <td>1678540.98</td>\n",
              "    </tr>\n",
              "    <tr>\n",
              "      <th>91</th>\n",
              "      <td>Australia and Oceania</td>\n",
              "      <td>Australia</td>\n",
              "      <td>Beverages</td>\n",
              "      <td>Offline</td>\n",
              "      <td>H</td>\n",
              "      <td>7/7/2014</td>\n",
              "      <td>240470397</td>\n",
              "      <td>7/11/2014</td>\n",
              "      <td>9389</td>\n",
              "      <td>47.45</td>\n",
              "      <td>31.79</td>\n",
              "      <td>445508.05</td>\n",
              "      <td>298476.31</td>\n",
              "      <td>147031.74</td>\n",
              "    </tr>\n",
              "  </tbody>\n",
              "</table>\n",
              "</div>\n",
              "      <button class=\"colab-df-convert\" onclick=\"convertToInteractive('df-0302a5c7-0ab6-464b-899d-06fe2455b3f8')\"\n",
              "              title=\"Convert this dataframe to an interactive table.\"\n",
              "              style=\"display:none;\">\n",
              "        \n",
              "  <svg xmlns=\"http://www.w3.org/2000/svg\" height=\"24px\"viewBox=\"0 0 24 24\"\n",
              "       width=\"24px\">\n",
              "    <path d=\"M0 0h24v24H0V0z\" fill=\"none\"/>\n",
              "    <path d=\"M18.56 5.44l.94 2.06.94-2.06 2.06-.94-2.06-.94-.94-2.06-.94 2.06-2.06.94zm-11 1L8.5 8.5l.94-2.06 2.06-.94-2.06-.94L8.5 2.5l-.94 2.06-2.06.94zm10 10l.94 2.06.94-2.06 2.06-.94-2.06-.94-.94-2.06-.94 2.06-2.06.94z\"/><path d=\"M17.41 7.96l-1.37-1.37c-.4-.4-.92-.59-1.43-.59-.52 0-1.04.2-1.43.59L10.3 9.45l-7.72 7.72c-.78.78-.78 2.05 0 2.83L4 21.41c.39.39.9.59 1.41.59.51 0 1.02-.2 1.41-.59l7.78-7.78 2.81-2.81c.8-.78.8-2.07 0-2.86zM5.41 20L4 18.59l7.72-7.72 1.47 1.35L5.41 20z\"/>\n",
              "  </svg>\n",
              "      </button>\n",
              "      \n",
              "  <style>\n",
              "    .colab-df-container {\n",
              "      display:flex;\n",
              "      flex-wrap:wrap;\n",
              "      gap: 12px;\n",
              "    }\n",
              "\n",
              "    .colab-df-convert {\n",
              "      background-color: #E8F0FE;\n",
              "      border: none;\n",
              "      border-radius: 50%;\n",
              "      cursor: pointer;\n",
              "      display: none;\n",
              "      fill: #1967D2;\n",
              "      height: 32px;\n",
              "      padding: 0 0 0 0;\n",
              "      width: 32px;\n",
              "    }\n",
              "\n",
              "    .colab-df-convert:hover {\n",
              "      background-color: #E2EBFA;\n",
              "      box-shadow: 0px 1px 2px rgba(60, 64, 67, 0.3), 0px 1px 3px 1px rgba(60, 64, 67, 0.15);\n",
              "      fill: #174EA6;\n",
              "    }\n",
              "\n",
              "    [theme=dark] .colab-df-convert {\n",
              "      background-color: #3B4455;\n",
              "      fill: #D2E3FC;\n",
              "    }\n",
              "\n",
              "    [theme=dark] .colab-df-convert:hover {\n",
              "      background-color: #434B5C;\n",
              "      box-shadow: 0px 1px 3px 1px rgba(0, 0, 0, 0.15);\n",
              "      filter: drop-shadow(0px 1px 2px rgba(0, 0, 0, 0.3));\n",
              "      fill: #FFFFFF;\n",
              "    }\n",
              "  </style>\n",
              "\n",
              "      <script>\n",
              "        const buttonEl =\n",
              "          document.querySelector('#df-0302a5c7-0ab6-464b-899d-06fe2455b3f8 button.colab-df-convert');\n",
              "        buttonEl.style.display =\n",
              "          google.colab.kernel.accessAllowed ? 'block' : 'none';\n",
              "\n",
              "        async function convertToInteractive(key) {\n",
              "          const element = document.querySelector('#df-0302a5c7-0ab6-464b-899d-06fe2455b3f8');\n",
              "          const dataTable =\n",
              "            await google.colab.kernel.invokeFunction('convertToInteractive',\n",
              "                                                     [key], {});\n",
              "          if (!dataTable) return;\n",
              "\n",
              "          const docLinkHtml = 'Like what you see? Visit the ' +\n",
              "            '<a target=\"_blank\" href=https://colab.research.google.com/notebooks/data_table.ipynb>data table notebook</a>'\n",
              "            + ' to learn more about interactive tables.';\n",
              "          element.innerHTML = '';\n",
              "          dataTable['output_type'] = 'display_data';\n",
              "          await google.colab.output.renderOutput(dataTable, element);\n",
              "          const docLink = document.createElement('div');\n",
              "          docLink.innerHTML = docLinkHtml;\n",
              "          element.appendChild(docLink);\n",
              "        }\n",
              "      </script>\n",
              "    </div>\n",
              "  </div>\n",
              "  "
            ]
          },
          "metadata": {},
          "execution_count": 5
        }
      ],
      "source": [
        "##Select only data for Australia and Oceania\n",
        "australasia_df = df[df.Region == 'Australia and Oceania']\n",
        "\n",
        "##Show and Print new dataframe for Australia and Oceania\n",
        "australasia_df"
      ]
    },
    {
      "cell_type": "code",
      "source": [
        "##Show new dataframe columns\n",
        "australasia_df.columns"
      ],
      "metadata": {
        "colab": {
          "base_uri": "https://localhost:8080/"
        },
        "id": "FfjGgasJUlC2",
        "outputId": "30b8b685-9ce9-4c57-d905-bc75f0da6c8b"
      },
      "execution_count": 6,
      "outputs": [
        {
          "output_type": "execute_result",
          "data": {
            "text/plain": [
              "Index(['Region', 'Country', 'Item Type', 'Sales Channel', 'Order Priority',\n",
              "       'Order Date', 'Order ID', 'Ship Date', 'Units Sold', 'Unit Price',\n",
              "       'Unit Cost', 'Total Revenue', 'Total Cost', 'Total Profit'],\n",
              "      dtype='object')"
            ]
          },
          "metadata": {},
          "execution_count": 6
        }
      ]
    },
    {
      "cell_type": "markdown",
      "source": [
        "# Calculating the maximum, minimum and average profit for each country in the Australia and Oceania region"
      ],
      "metadata": {
        "id": "ThJ_lkaXrOYG"
      }
    },
    {
      "cell_type": "code",
      "source": [
        "##Tutorial to get the max, min and mean is learnt from https://jakevdp.github.io/PythonDataScienceHandbook/02.04-computation-on-arrays-aggregates.html and https://www.youtube.com/watch?v=n2ff3rcLgnE&ab_channel=ChartExplorers\n",
        "##Calculating the Minimum Total Profit\n",
        "col_min = australasia_df['Total Cost'].min(axis=0)\n",
        "col_min"
      ],
      "metadata": {
        "colab": {
          "base_uri": "https://localhost:8080/"
        },
        "id": "XHGGjIJYrJv7",
        "outputId": "2e2ae2cd-23ae-4011-c4b7-67329a63a717"
      },
      "execution_count": 7,
      "outputs": [
        {
          "output_type": "execute_result",
          "data": {
            "text/plain": [
              "15134.04"
            ]
          },
          "metadata": {},
          "execution_count": 7
        }
      ]
    },
    {
      "cell_type": "code",
      "source": [
        "##Calculating the Maximum Total Profit\n",
        "col_max = australasia_df['Total Cost'].max(axis=0)\n",
        "col_max"
      ],
      "metadata": {
        "colab": {
          "base_uri": "https://localhost:8080/"
        },
        "id": "oxxfQk3zrxvf",
        "outputId": "d2917425-d649-48f6-c719-0c9369a22343"
      },
      "execution_count": 8,
      "outputs": [
        {
          "output_type": "execute_result",
          "data": {
            "text/plain": [
              "2542187.82"
            ]
          },
          "metadata": {},
          "execution_count": 8
        }
      ]
    },
    {
      "cell_type": "markdown",
      "source": [
        "Therefore, the minimum total profit is $15134.04 - Australia. The maximum total profit is 2542187.82 - Samoa"
      ],
      "metadata": {
        "id": "nENatUc7sFSm"
      }
    },
    {
      "cell_type": "code",
      "source": [
        "##Calculating the Mean Total Profit\n",
        "col_mean = australasia_df['Total Cost'].mean(axis=0)\n",
        "col_mean"
      ],
      "metadata": {
        "colab": {
          "base_uri": "https://localhost:8080/"
        },
        "id": "QG6VvMrxr5Qc",
        "outputId": "6f4d8a73-99b4-4964-d9c5-0ec37b08a6b4"
      },
      "execution_count": 10,
      "outputs": [
        {
          "output_type": "execute_result",
          "data": {
            "text/plain": [
              "852009.5545454546"
            ]
          },
          "metadata": {},
          "execution_count": 10
        }
      ]
    },
    {
      "cell_type": "markdown",
      "source": [
        "# Plotting the total profit for each country in the Australia and Oceania region "
      ],
      "metadata": {
        "id": "CaqUbivsrb7s"
      }
    },
    {
      "cell_type": "code",
      "source": [
        "##Select only data for Total Profit\n",
        "##This will be the X-axis\n",
        "total_profit = australasia_df['Total Profit']\n",
        "\n",
        "##Select only data for Country\n",
        "##This will be the Y-axis\n",
        "country = australasia_df['Country']"
      ],
      "metadata": {
        "id": "OOczbvFTTIoC"
      },
      "execution_count": 11,
      "outputs": []
    },
    {
      "cell_type": "code",
      "source": [
        "##Show data for Total Profit\n",
        "total_profit"
      ],
      "metadata": {
        "colab": {
          "base_uri": "https://localhost:8080/"
        },
        "id": "c67cXTHzVmjR",
        "outputId": "37e2c5aa-ff07-41a0-c502-64952f922452"
      },
      "execution_count": 12,
      "outputs": [
        {
          "output_type": "execute_result",
          "data": {
            "text/plain": [
              "0      951410.50\n",
              "5      285087.64\n",
              "19     337937.60\n",
              "23       5270.67\n",
              "26      13009.18\n",
              "32     369155.00\n",
              "56     727423.20\n",
              "60      60418.38\n",
              "76     146875.14\n",
              "79    1678540.98\n",
              "91     147031.74\n",
              "Name: Total Profit, dtype: float64"
            ]
          },
          "metadata": {},
          "execution_count": 12
        }
      ]
    },
    {
      "cell_type": "code",
      "source": [
        "##Show data for Country\n",
        "country"
      ],
      "metadata": {
        "colab": {
          "base_uri": "https://localhost:8080/"
        },
        "id": "6yfS6shxcF7U",
        "outputId": "853130ea-4c29-4143-c101-ce2bd746a97e"
      },
      "execution_count": 13,
      "outputs": [
        {
          "output_type": "execute_result",
          "data": {
            "text/plain": [
              "0                             Tuvalu\n",
              "5                    Solomon Islands\n",
              "19                        East Timor\n",
              "23                       New Zealand\n",
              "26                          Kiribati\n",
              "32                         Australia\n",
              "56                              Fiji\n",
              "60                         Australia\n",
              "76    Federated States of Micronesia\n",
              "79                            Samoa \n",
              "91                         Australia\n",
              "Name: Country, dtype: object"
            ]
          },
          "metadata": {},
          "execution_count": 13
        }
      ]
    },
    {
      "cell_type": "code",
      "source": [
        "##Create a panda Series with a dictionary, Here index and data is mapped to key and value in the dictionary\n",
        "country_profit = {\"Tuvalu\":951410.50, \"Solomon Islands\":285087.64, \"East Timor\":337937.60, \"New Zealand\":5270.67, \"Kiribati\":13009.18, \"Australia\":369155.00, \"Fiji\":727423.20, \"Australia\":60418.38, \"Federated States of Micronesia\":146875.14, \"Samoa\":1678540.98, \"Australia\":147031.74}\n",
        "country_profit_series = pd.Series(country_profit)"
      ],
      "metadata": {
        "id": "cuzdMBYccJJz"
      },
      "execution_count": 14,
      "outputs": []
    },
    {
      "cell_type": "code",
      "source": [
        "##Show and print the series\n",
        "country_profit_series"
      ],
      "metadata": {
        "colab": {
          "base_uri": "https://localhost:8080/"
        },
        "id": "PQkTF6CmgcyA",
        "outputId": "d857132a-4924-4509-a1c9-aa1af789a8aa"
      },
      "execution_count": 15,
      "outputs": [
        {
          "output_type": "execute_result",
          "data": {
            "text/plain": [
              "Tuvalu                             951410.50\n",
              "Solomon Islands                    285087.64\n",
              "East Timor                         337937.60\n",
              "New Zealand                          5270.67\n",
              "Kiribati                            13009.18\n",
              "Australia                          147031.74\n",
              "Fiji                               727423.20\n",
              "Federated States of Micronesia     146875.14\n",
              "Samoa                             1678540.98\n",
              "dtype: float64"
            ]
          },
          "metadata": {},
          "execution_count": 15
        }
      ]
    },
    {
      "cell_type": "code",
      "source": [
        "##Tutorial to Create Bar Graph from https://www.shanelynn.ie/bar-plots-in-python-using-pandas-dataframes/ and https://www.youtube.com/watch?v=rnxXyhXn7IA&ab_channel=OSPY\n",
        "\n",
        "#Create Bar Graph\n",
        "country_profit_series.plot.bar()\n",
        "\n",
        "#Plot Title\n",
        "plt.title(\"Total Profits of Australia and Oceania Region\")\n",
        "\n",
        "#Rename X and Y Labels\n",
        "plt.xlabel(\"Country\")\n",
        "plt.ylabel(\"Total Profit\")\n",
        "\n",
        "#Rotate X Positioning\n",
        "plt.xticks(rotation=90, horizontalalignment=\"center\")\n",
        "\n",
        "#Resize Graph\n",
        "plt.rcParams[\"figure.figsize\"] = [15, 8]"
      ],
      "metadata": {
        "colab": {
          "base_uri": "https://localhost:8080/",
          "height": 657
        },
        "id": "tATp2cvnhxgu",
        "outputId": "1603c957-d1c2-45dc-9de9-636d3f919834"
      },
      "execution_count": 18,
      "outputs": [
        {
          "output_type": "display_data",
          "data": {
            "text/plain": [
              "<Figure size 1080x576 with 1 Axes>"
            ],
            "image/png": "[encoded data removed]"
          },
          "metadata": {
            "needs_background": "light"
          }
        }
      ]
    }
  ],
  "metadata": {
    "colab": {
      "name": "question_two_sales.ipynb",
      "provenance": [],
      "authorship_tag": "ABX9TyM0FP3dkKl8zbJmyFcg4aKP",
      "include_colab_link": true
    },
    "kernelspec": {
      "display_name": "Python 3",
      "name": "python3"
    },
    "language_info": {
      "name": "python"
    }
  },
  "nbformat": 4,
  "nbformat_minor": 0
}