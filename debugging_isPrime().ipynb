{
  "nbformat": 4,
  "nbformat_minor": 0,
  "metadata": {
    "colab": {
      "name": "debugging_isPrime().ipynb",
      "provenance": [],
      "include_colab_link": true
    },
    "kernelspec": {
      "name": "python3",
      "display_name": "Python 3"
    },
    "language_info": {
      "name": "python"
    }
  },
  "cells": [
    {
      "cell_type": "markdown",
      "metadata": {
        "id": "view-in-github",
        "colab_type": "text"
      },
      "source": [
        "<a href=\"https://colab.research.google.com/github/PaulAlvarez13/ISYS2001/blob/main/debugging_isPrime().ipynb\" target=\"_parent\"><img src=\"https://colab.research.google.com/assets/colab-badge.svg\" alt=\"Open In Colab\"/></a>"
      ]
    },
    {
      "cell_type": "markdown",
      "source": [
        "## Debug isPrime()\n",
        "What is your preferred method? Do you like using print() or prefer *pdb*? \n",
        "I preder to use print method as it doesn't require special tools.\n",
        "\n",
        "Since mistakes in programs will happen, the important part is that you have a debugging strategy, not which tool you use.\n",
        "\n",
        "Here is a function that needs debugging. Using either print() or *pdb*, debug the following function."
      ],
      "metadata": {
        "id": "LIfoDVzKX7uK"
      }
    },
    {
      "cell_type": "code",
      "source": [
        "def isPrime(candidate):\n",
        "    if candidate <= 1:\n",
        "        return False\n",
        "    print(\"DEBUG:\", candidate)\n",
        "    lower = candidate - 1\n",
        "    while lower > 1:\n",
        "        if candidate / lower == candidate // lower:\n",
        "            return False\n",
        "        lower -= 1\n",
        "  \n",
        "    return True"
      ],
      "metadata": {
        "id": "YH9gDoOYvKwg"
      },
      "execution_count": 37,
      "outputs": []
    },
    {
      "cell_type": "code",
      "source": [
        "isPrime(2)"
      ],
      "metadata": {
        "colab": {
          "base_uri": "https://localhost:8080/"
        },
        "id": "1069ITZyV2Hp",
        "outputId": "d95dc75c-f5a2-4b54-baa9-0ec29103900d"
      },
      "execution_count": 38,
      "outputs": [
        {
          "output_type": "stream",
          "name": "stdout",
          "text": [
            "DEBUG: 2\n"
          ]
        },
        {
          "output_type": "execute_result",
          "data": {
            "text/plain": [
              "True"
            ]
          },
          "metadata": {},
          "execution_count": 38
        }
      ]
    }
  ]
}